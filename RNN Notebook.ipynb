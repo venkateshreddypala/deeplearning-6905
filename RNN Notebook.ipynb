{
 "cells": [
  {
   "cell_type": "code",
   "execution_count": 1,
   "metadata": {},
   "outputs": [
    {
     "name": "stderr",
     "output_type": "stream",
     "text": [
      "S:\\Anaconda3\\lib\\site-packages\\h5py\\__init__.py:36: FutureWarning: Conversion of the second argument of issubdtype from `float` to `np.floating` is deprecated. In future, it will be treated as `np.float64 == np.dtype(float).type`.\n",
      "  from ._conv import register_converters as _register_converters\n"
     ]
    }
   ],
   "source": [
    "import numpy as np\n",
    "import tensorflow as tf\n",
    "from tensorflow.contrib.rnn import *\n",
    "import matplotlib.pyplot as plt\n",
    "import os\n"
   ]
  },
  {
   "cell_type": "code",
   "execution_count": null,
   "metadata": {},
   "outputs": [],
   "source": []
  },
  {
   "cell_type": "code",
   "execution_count": 2,
   "metadata": {},
   "outputs": [],
   "source": [
    "num_neurons = 100\n",
    "num_inputs = 1\n",
    "num_outputs = 1\n",
    "symbol = 'goog' # amzn\n",
    "epochs = 500\n",
    "seq_len = 20 \n",
    "learning_rate = 0.001\n",
    "f = open(symbol + '.txt', 'r').read()\n",
    "data = f.split('\\n')[:-1] # get rid of the last '' so float(n) works\n",
    "data.reverse()\n",
    "d = [float(n) for n in data]"
   ]
  },
  {
   "cell_type": "code",
   "execution_count": 3,
   "metadata": {},
   "outputs": [],
   "source": [
    "result = []\n",
    "for i in range(len(d) - seq_len - 1):\n",
    "    result.append(d[i: i + seq_len + 1])\n",
    "\n",
    "result = np.array(result)\n",
    "row = int(round(0.9 * result.shape[0]))\n",
    "train = result[:row, :] \n",
    "test = result[row:, :]\n",
    "np.random.shuffle(train) \n",
    "X_train = train[:, :-1] # all rows with all columns except the last one \n",
    "X_test = test[:, :-1] # each row contains seq_len + 1 columns\n",
    "\n",
    "y_train = train[:, 1:] \n",
    "y_test = test[:, 1:]\n",
    "X_train = np.reshape(X_train, (X_train.shape[0], X_train.shape[1], num_inputs))\n",
    "X_test = np.reshape(X_test, (X_test.shape[0], X_test.shape[1], num_inputs)) \n",
    "y_train = np.reshape(y_train, (y_train.shape[0], y_train.shape[1], num_outputs))\n",
    "y_test = np.reshape(y_test, (y_test.shape[0], y_test.shape[1], num_outputs)) \n",
    "X = tf.placeholder(tf.float32, [None, seq_len, num_inputs])\n",
    "y = tf.placeholder(tf.float32, [None, seq_len, num_outputs])\n",
    "\n",
    "cell = tf.contrib.rnn.OutputProjectionWrapper(\n",
    "    tf.contrib.rnn.BasicRNNCell(num_units=num_neurons, activation=tf.nn.relu), output_size=num_outputs)\n",
    "outputs, _ = tf.nn.dynamic_rnn(cell, X, dtype=tf.float32)\n",
    "\n",
    "preds = tf.reshape(outputs, [1, seq_len], name=\"preds\")\n",
    "loss = tf.reduce_mean(tf.square(outputs - y)) \n",
    "optimizer = tf.train.AdamOptimizer(learning_rate=learning_rate)\n",
    "training_op = optimizer.minimize(loss)\n",
    "\n",
    "init = tf.global_variables_initializer()\n",
    "saver = tf.train.Saver()"
   ]
  },
  {
   "cell_type": "code",
   "execution_count": 4,
   "metadata": {},
   "outputs": [
    {
     "name": "stdout",
     "output_type": "stream",
     "text": [
      "10 loss: 146723.22\n",
      "20 loss: 56131.727\n",
      "30 loss: 35662.98\n",
      "40 loss: 25910.12\n",
      "50 loss: 21491.3\n",
      "60 loss: 18663.691\n",
      "70 loss: 16688.363\n",
      "80 loss: 15116.402\n",
      "90 loss: 13809.408\n",
      "100 loss: 12666.455\n",
      "110 loss: 11631.824\n",
      "120 loss: 10675.438\n",
      "130 loss: 9781.65\n",
      "140 loss: 8912.579\n",
      "150 loss: 8058.7925\n",
      "160 loss: 7211.588\n",
      "170 loss: 6376.1045\n",
      "180 loss: 5563.397\n",
      "190 loss: 4789.5586\n",
      "200 loss: 4061.466\n",
      "210 loss: 3388.815\n",
      "220 loss: 2779.7234\n",
      "230 loss: 2241.149\n",
      "240 loss: 1775.7817\n",
      "250 loss: 1383.1398\n",
      "260 loss: 1059.8767\n",
      "270 loss: 800.83813\n",
      "280 loss: 599.7414\n",
      "290 loss: 447.71536\n",
      "300 loss: 338.154\n",
      "310 loss: 258.33905\n",
      "320 loss: 202.67401\n",
      "330 loss: 165.60687\n",
      "340 loss: 141.0613\n",
      "350 loss: 127.87814\n",
      "360 loss: 116.01791\n",
      "370 loss: 110.195366\n",
      "380 loss: 106.34106\n",
      "390 loss: 104.25209\n",
      "400 loss: 102.928215\n",
      "410 loss: 102.50282\n",
      "420 loss: 102.93544\n",
      "430 loss: 102.34267\n",
      "440 loss: 101.24304\n",
      "450 loss: 101.22155\n",
      "460 loss: 100.956985\n",
      "470 loss: 100.85464\n",
      "480 loss: 100.73632\n",
      "490 loss: 100.621\n",
      "500 loss: 100.51099\n"
     ]
    }
   ],
   "source": [
    "with tf.Session() as sess:\n",
    "    init.run()\n",
    "\n",
    "    count = 0\n",
    "    for _ in range(epochs):\n",
    "        n=0\n",
    "        sess.run(training_op, feed_dict={X: X_train, y: y_train})\n",
    "        count += 1\n",
    "        if count % 10 == 0:\n",
    "            saver.save(sess, \"/tmp/\" + symbol + \"_model.ckpt\") \n",
    "            loss_val = loss.eval(feed_dict={X: X_train, y: y_train})\n",
    "            print(count, \"loss:\", loss_val)\n",
    "            \n",
    "            \n",
    "            \n",
    "            \n",
    "            correct = 0\n",
    "    y_pred = sess.run(outputs, feed_dict={X: X_test}) \n",
    "    targets = []\n",
    "    predictions = []"
   ]
  },
  {
   "cell_type": "code",
   "execution_count": 5,
   "metadata": {},
   "outputs": [],
   "source": [
    "    for i in range(y_pred.shape[0]):\n",
    "        input = X_test[i]\n",
    "        target = y_test[i]\n",
    "        prediction = y_pred[i]\n",
    "\n",
    "        targets.append(target[-1][0])\n",
    "        predictions.append(prediction[-1][0])\n",
    "\n",
    "        if target[-1][0] >= input[-1][0] and prediction[-1][0] >= input[-1][0]:\n",
    "            correct += 1\n",
    "        elif target[-1][0] < input[-1][0] and prediction[-1][0] < input[-1][0]:\n",
    "            correct += 1\n",
    "            total = len(X_test)"
   ]
  },
  {
   "cell_type": "code",
   "execution_count": 6,
   "metadata": {},
   "outputs": [
    {
     "data": {
      "image/png": "[encoded data removed]",
      "text/plain": [
       "<matplotlib.figure.Figure at 0x189194446a0>"
      ]
     },
     "metadata": {},
     "output_type": "display_data"
    }
   ],
   "source": [
    "    xs = [i for i, _ in enumerate(y_test)]\n",
    "    plt.plot(xs, predictions, 'r-', label='prediction') \n",
    "    plt.plot(xs, targets, 'b-', label='true')\n",
    "    plt.legend(loc=0)\n",
    "    plt.title(\"%s - %d/%d=%.2f%%\" %(symbol, correct, total, \n",
    "               100*float(correct)/total))\n",
    "    plt.show()"
   ]
  },
  {
   "cell_type": "code",
   "execution_count": null,
   "metadata": {},
   "outputs": [],
   "source": []
  }
 ],
 "metadata": {
  "kernelspec": {
   "display_name": "Python 3",
   "language": "python",
   "name": "python3"
  },
  "language_info": {
   "codemirror_mode": {
    "name": "ipython",
    "version": 3
   },
   "file_extension": ".py",
   "mimetype": "text/x-python",
   "name": "python",
   "nbconvert_exporter": "python",
   "pygments_lexer": "ipython3",
   "version": "3.6.4"
  }
 },
 "nbformat": 4,
 "nbformat_minor": 2
}
