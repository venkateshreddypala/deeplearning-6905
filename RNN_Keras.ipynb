{
 "cells": [
  {
   "cell_type": "code",
   "execution_count": 1,
   "metadata": {},
   "outputs": [
    {
     "name": "stderr",
     "output_type": "stream",
     "text": [
      "S:\\Anaconda3\\lib\\site-packages\\h5py\\__init__.py:36: FutureWarning: Conversion of the second argument of issubdtype from `float` to `np.floating` is deprecated. In future, it will be treated as `np.float64 == np.dtype(float).type`.\n",
      "  from ._conv import register_converters as _register_converters\n",
      "Using TensorFlow backend.\n"
     ]
    }
   ],
   "source": [
    "import keras\n",
    "from keras import backend as K\n",
    "from keras.layers.core import Dense, Activation, Dropout\n",
    "from keras.layers.recurrent import LSTM\n",
    "from keras.layers import Bidirectional\n",
    "from keras.models import Sequential\n",
    "import matplotlib.pyplot as plt\n",
    "\n",
    "import tensorflow as tf\n",
    "import numpy as np\n",
    "\n",
    "symbol = 'amzn'\n",
    "epochs = 10\n",
    "num_neurons = 100\n",
    "seq_len = 20\n",
    "pred_len = 1\n",
    "shift_pred = False"
   ]
  },
  {
   "cell_type": "code",
   "execution_count": 2,
   "metadata": {},
   "outputs": [],
   "source": [
    "def load_data(filename, seq_len, pred_len, shift_pred):\n",
    "    f = open(filename, 'r').read()\n",
    "    data = f.split('\\n')[:-1] # get rid of the last '' so float(n) works\n",
    "    data.reverse()\n",
    "    d = [float(n) for n in data]\n",
    "    lower = np.min(d)\n",
    "    upper = np.max(d)\n",
    "    scale = upper-lower\n",
    "    normalized_d = [(x-lower)/scale for x in d]\n",
    "\n",
    "    result = []\n",
    "    if shift_pred:\n",
    "        pred_len = 1\n",
    "    for i in range((len(normalized_d) - seq_len - pred_len)//pred_len):\n",
    "        result.append(normalized_d[i*pred_len: i*pred_len + seq_len + pred_len])\n",
    "    \n",
    "    result = np.array(result)\n",
    "    row = int(round(0.9 * result.shape[0]))\n",
    "    train = result[:row, :] \n",
    "    test = result[row:, :]\n",
    "\n",
    "    np.random.shuffle(train) \n",
    "\n",
    "    X_train = train[:, :-pred_len]\n",
    "    X_test = test[:, :-pred_len]\n",
    "\n",
    "    if shift_pred:\n",
    "        y_train = train[:, 1:] \n",
    "        y_test = test[:, 1:]\n",
    "    else:\n",
    "        y_train = train[:, -pred_len:]\n",
    "        y_test = test[:, -pred_len:]\n",
    "    \n",
    "    X_train = np.reshape(X_train, (X_train.shape[0], X_train.shape[1], \n",
    "                                                                    1))\n",
    "    X_test = np.reshape(X_test, (X_test.shape[0], X_test.shape[1], 1)) \n",
    "\n",
    "    return [X_train, y_train, X_test, y_test, lower, scale]\n"
   ]
  },
  {
   "cell_type": "code",
   "execution_count": 3,
   "metadata": {},
   "outputs": [],
   "source": [
    "X_train, y_train, X_test, y_test, lower, scale = load_data(symbol + '.txt', seq_len, pred_len, shift_pred)"
   ]
  },
  {
   "cell_type": "code",
   "execution_count": 4,
   "metadata": {},
   "outputs": [
    {
     "name": "stdout",
     "output_type": "stream",
     "text": [
      "Train on 3947 samples, validate on 208 samples\n",
      "Epoch 1/10\n",
      "3947/3947 [==============================] - 3s 859us/step - loss: 0.0053 - val_loss: 2.8227e-04\n",
      "Epoch 2/10\n",
      "3947/3947 [==============================] - 2s 479us/step - loss: 0.0010 - val_loss: 7.5835e-05\n",
      "Epoch 3/10\n",
      "3947/3947 [==============================] - 5s 1ms/step - loss: 8.0735e-04 - val_loss: 2.4578e-04\n",
      "Epoch 4/10\n",
      "3947/3947 [==============================] - 2s 474us/step - loss: 7.4207e-04 - val_loss: 2.2062e-04\n",
      "Epoch 5/10\n",
      "3947/3947 [==============================] - 2s 476us/step - loss: 7.6661e-04 - val_loss: 1.8488e-04\n",
      "Epoch 6/10\n",
      "3947/3947 [==============================] - 2s 461us/step - loss: 5.1332e-04 - val_loss: 2.9038e-04\n",
      "Epoch 7/10\n",
      "3947/3947 [==============================] - 2s 466us/step - loss: 7.9969e-04 - val_loss: 4.2690e-04\n",
      "Epoch 8/10\n",
      "3947/3947 [==============================] - 2s 465us/step - loss: 6.8570e-04 - val_loss: 3.6721e-04\n",
      "Epoch 9/10\n",
      "3947/3947 [==============================] - 2s 499us/step - loss: 4.1917e-04 - val_loss: 3.9651e-04\n",
      "Epoch 10/10\n",
      "3947/3947 [==============================] - 2s 480us/step - loss: 6.5812e-04 - val_loss: 5.7825e-04\n",
      "activation_1/Identity\n",
      "bidirectional_1_input\n"
     ]
    }
   ],
   "source": [
    "model = Sequential()\n",
    "model.add(Bidirectional(LSTM(num_neurons, return_sequences=True, input_shape=(None, 1)), input_shape=(seq_len, 1)))\n",
    "model.add(Dropout(0.2))\n",
    "\n",
    "model.add(LSTM(num_neurons, return_sequences=True))\n",
    "model.add(Dropout(0.2))\n",
    "\n",
    "model.add(LSTM(num_neurons, return_sequences=False))\n",
    "model.add(Dropout(0.2))\n",
    "\n",
    "if shift_pred:\n",
    "    model.add(Dense(units=seq_len))\n",
    "else:\n",
    "    model.add(Dense(units=pred_len))\n",
    "\n",
    "model.add(Activation('linear'))\n",
    "model.compile(loss='mse', optimizer='rmsprop')\n",
    "\n",
    "model.fit(\n",
    "    X_train,\n",
    "    y_train,\n",
    "    batch_size=512,\n",
    "    epochs=epochs,\n",
    "    validation_split=0.05)\n",
    "\n",
    "print(model.output.op.name)\n",
    "print(model.input.op.name)"
   ]
  },
  {
   "cell_type": "code",
   "execution_count": 5,
   "metadata": {},
   "outputs": [],
   "source": [
    "saver = tf.train.Saver()\n",
    "saver.save(K.get_session(), '/tmp/keras_' + symbol + '.ckpt')\n",
    "\n",
    "predictions = []\n",
    "correct = 0\n",
    "total = pred_len*len(X_test)\n",
    "for i in range(len(X_test)):\n",
    "    input = X_test[i]\n",
    "    y_pred = model.predict(input.reshape(1, seq_len, 1))\n",
    "    predictions.append(scale * y_pred[0][-1] + lower)\n",
    "    if shift_pred:\n",
    "        if y_test[i][-1] >= input[-1][0] and y_pred[0][-1] >= input[-1][0]:\n",
    "            correct += 1\n",
    "        elif y_test[i][-1] < input[-1][0] and y_pred[0][-1] < input[-1][0]:\n",
    "            correct += 1\n",
    "    else:\n",
    "        for j in range(len(y_test[i])):\n",
    "            if y_test[i][j] >= input[-1][0] and y_pred[0][j] >= input[-1][0]:\n",
    "                correct += 1\n",
    "            elif y_test[i][j] < input[-1][0] and y_pred[0][j] < input[-1][0]:\n",
    "                correct += 1\n"
   ]
  },
  {
   "cell_type": "code",
   "execution_count": 6,
   "metadata": {},
   "outputs": [
    {
     "data": {
      "image/png": "[encoded data removed]",
      "text/plain": [
       "<matplotlib.figure.Figure at 0x17e3169fdd8>"
      ]
     },
     "metadata": {},
     "output_type": "display_data"
    }
   ],
   "source": [
    "y_test = scale * y_test + lower \n",
    "y_test = y_test[:, -1]\n",
    "xs = [i for i, _ in enumerate(y_test)]\n",
    "plt.plot(xs, y_test, 'g-', label='true')\n",
    "plt.plot(xs, predictions, 'r-', label='prediction')\n",
    "plt.legend(loc=0)\n",
    "if shift_pred:\n",
    "    plt.title(\"%s - epochs=%d, shift_pred=True, seq_len=%d: %d/%d=%.2f%%\" %(symbol, epochs, seq_len, correct, total, 100*float(correct)/total))\n",
    "else:\n",
    "    plt.title(\"%s - epochs=%d, lens=%d,%d: %d/%d=%.2f%%\" %(symbol, epochs, seq_len, pred_len, correct, total, 100*float(correct)/total))\n",
    "plt.show()"
   ]
  },
  {
   "cell_type": "code",
   "execution_count": null,
   "metadata": {},
   "outputs": [],
   "source": []
  }
 ],
 "metadata": {
  "kernelspec": {
   "display_name": "Python 3",
   "language": "python",
   "name": "python3"
  },
  "language_info": {
   "codemirror_mode": {
    "name": "ipython",
    "version": 3
   },
   "file_extension": ".py",
   "mimetype": "text/x-python",
   "name": "python",
   "nbconvert_exporter": "python",
   "pygments_lexer": "ipython3",
   "version": "3.6.4"
  }
 },
 "nbformat": 4,
 "nbformat_minor": 2
}
